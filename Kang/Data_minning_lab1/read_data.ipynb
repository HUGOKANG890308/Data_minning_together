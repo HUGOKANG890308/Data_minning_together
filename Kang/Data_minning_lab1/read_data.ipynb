{
 "cells": [
  {
   "cell_type": "code",
   "execution_count": 1,
   "metadata": {},
   "outputs": [],
   "source": [
    "import pandas as pd\n",
    "import os\n",
    "file_path = ['IBMGenerator-master\\DataA.data',\n",
    "             'IBMGenerator-master\\DataB.data',\n",
    "             'IBMGenerator-master\\DataC.data']"
   ]
  },
  {
   "cell_type": "code",
   "execution_count": 7,
   "metadata": {},
   "outputs": [
    {
     "name": "stdout",
     "output_type": "stream",
     "text": [
      "(1000, 25)\n"
     ]
    }
   ],
   "source": [
    "for i in file_path:\n",
    "    with open(i, 'r') as f:\n",
    "        transactions = [line.strip().split() for line in f]\n",
    "    df = pd.DataFrame(transactions)\n",
    "    print(df.shape)\n",
    "    break"
   ]
  },
  {
   "cell_type": "code",
   "execution_count": 3,
   "metadata": {},
   "outputs": [
    {
     "name": "stdout",
     "output_type": "stream",
     "text": [
      "(1000000, 35)\n"
     ]
    }
   ],
   "source": [
    "import pandas as pd\n",
    "file_kuo = 'IBMGenerator-master\\DataC.data'\n",
    "with open(file_kuo, 'r') as f:\n",
    "    transactions = [line.strip().split() for line in f]\n",
    "df = pd.DataFrame(transactions)\n",
    "print(df.shape)"
   ]
  },
  {
   "cell_type": "code",
   "execution_count": 2,
   "metadata": {},
   "outputs": [
    {
     "name": "stdout",
     "output_type": "stream",
     "text": [
      "(1000000, 35)\n"
     ]
    }
   ],
   "source": [
    "import pandas as pd\n",
    "file_kuo = 'datasets_hw1\\dataset_C\\dataset_C.data'\n",
    "with open(file_kuo, 'r') as f:\n",
    "    transactions = [line.strip().split() for line in f]\n",
    "df = pd.DataFrame(transactions)\n",
    "print(df.shape)"
   ]
  },
  {
   "cell_type": "code",
   "execution_count": 2,
   "metadata": {},
   "outputs": [
    {
     "name": "stdout",
     "output_type": "stream",
     "text": [
      "IBMGenerator-master\\DataA.data (1000000, 37)\n"
     ]
    }
   ],
   "source": [
    "import pandas as pd\n",
    "import os\n",
    "\n",
    "for i in file_path:\n",
    "    with open(i, 'r') as f:\n",
    "        transactions = [line.strip().split() for line in f]\n",
    "    df = pd.DataFrame(transactions)\n",
    "    basename = os.path.basename(i)  # 獲取路徑的基本名稱（最後一部分）\n",
    "    name, ext = os.path.splitext(basename)  # 分離基本名稱和擴展名\n",
    "    print(i,df.shape)\n",
    "    df.to_pickle(name + '.pkl')  # 將 DataFrame 保存為 pickle 檔案\n"
   ]
  },
  {
   "cell_type": "code",
   "execution_count": null,
   "metadata": {},
   "outputs": [],
   "source": [
    "file = ['DataA.csv','DataB.csv','DataC.csv']\n",
    "for i  in file:\n",
    "    df = pd.read_csv(i)\n",
    "    print(df.shape)"
   ]
  },
  {
   "cell_type": "code",
   "execution_count": null,
   "metadata": {},
   "outputs": [],
   "source": [
    "import pickle\n",
    "with open('IBMGenerator-master\\labelA.data', 'rb') as f:\n",
    "    labelA = pickle.dump(f)"
   ]
  }
 ],
 "metadata": {
  "kernelspec": {
   "display_name": "ml",
   "language": "python",
   "name": "python3"
  },
  "language_info": {
   "codemirror_mode": {
    "name": "ipython",
    "version": 3
   },
   "file_extension": ".py",
   "mimetype": "text/x-python",
   "name": "python",
   "nbconvert_exporter": "python",
   "pygments_lexer": "ipython3",
   "version": "3.9.12"
  }
 },
 "nbformat": 4,
 "nbformat_minor": 2
}
